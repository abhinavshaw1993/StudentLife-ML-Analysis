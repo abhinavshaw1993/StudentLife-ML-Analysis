{
 "cells": [
  {
   "cell_type": "code",
   "execution_count": null,
   "metadata": {},
   "outputs": [],
   "source": [
    "import pandas as pd\n",
    "from sklearn.linear_model import LogisticRegressionCV\n",
    "\n",
    "def change_labels(x):\n",
    "    label_dict = {\n",
    "         0.0:2\n",
    "        ,1.0:1\n",
    "        ,2.0:0\n",
    "        ,3.0:3\n",
    "        ,4.0:4\n",
    "       }\n",
    "    \n",
    "    return label_dict[x]\n",
    "\n",
    "data = pd.read_csv(\"data/variable_interval_aggregate_train.csv\", skip_blank_lines=False, index_col=0, infer_datetime_format=True)\n",
    "data.loc[:,\"stress_level\"] = data.loc[:,\"stress_level\"].apply(change_labels)"
   ]
  },
  {
   "cell_type": "code",
   "execution_count": null,
   "metadata": {},
   "outputs": [],
   "source": [
    "# Stratified and shuffled train split and splitting the X and y.\n",
    "from sklearn.model_selection import train_test_split\n",
    "\n",
    "X = data.iloc[:, :-1]\n",
    "y = data.iloc[:, -1]\n",
    "\n",
    "train_X , test_X, train_y, test_y = train_test_split(X, y, shuffle=False, stratify=None, test_size=0.25, random_state=10)"
   ]
  }
 ],
 "metadata": {
  "kernelspec": {
   "display_name": "Python 3",
   "language": "python",
   "name": "python3"
  },
  "language_info": {
   "codemirror_mode": {
    "name": "ipython",
    "version": 3
   },
   "file_extension": ".py",
   "mimetype": "text/x-python",
   "name": "python",
   "nbconvert_exporter": "python",
   "pygments_lexer": "ipython3",
   "version": "3.6.4"
  }
 },
 "nbformat": 4,
 "nbformat_minor": 2
}
