{
 "cells": [
  {
   "cell_type": "code",
   "execution_count": 20,
   "metadata": {},
   "outputs": [],
   "source": [
    "import numpy as np\n",
    "from sklearn.ensemble import ExtraTreesClassifier\n",
    "from sklearn.metrics import accuracy_score\n",
    "from sklearn.metrics import f1_score\n",
    "from IPython.display import display\n",
    "from sklearn.model_selection import GridSearchCV\n",
    "from sklearn.decomposition import PCA\n",
    "from sklearn.preprocessing import scalea\n",
    "import matplotlib.pyplot as plt\n",
    "import pandas as pd\n",
    "\n",
    "\n",
    "# Read Data.\n",
    "data = pd.read_csv(\"data/variable_interval_aggregate_train.csv\", skip_blank_lines=False, index_col=0, infer_datetime_format=True)\n",
    "y_true = data[\"stress_level\"]\n"
   ]
  },
  {
   "cell_type": "code",
   "execution_count": 21,
   "metadata": {},
   "outputs": [
    {
     "data": {
      "image/png": "[encoded data removed]",
      "text/plain": [
       "<matplotlib.figure.Figure at 0x11d5dc51e48>"
      ]
     },
     "metadata": {},
     "output_type": "display_data"
    }
   ],
   "source": [
    "# Selectng only one student for PCA plot.\n",
    "student_1_data = data[data.loc[:,\"student_id\"] == 1]\n",
    "student_1_y_true = student_1_data.loc[:,\"stress_level\"]\n",
    "\n",
    "# Performaing PCA on only for fisrt student.\n",
    "pca_model = PCA(n_components=3)\n",
    "principle_components = pca_model.fit_transform(student_1_data)\n",
    "\n",
    "# plot the figure\n",
    "\n",
    "plt.figure(figsize=(12,12))\n",
    "\n",
    "x = principle_components[:,0]\n",
    "y =  principle_components[:,1]\n",
    "z =  principle_components[:,2]\n",
    "\n",
    "\n",
    "colors = {0:'red', 1:'blue', 2:'green', 3:'black', 4:'yellow'}\n",
    "\n",
    "df = pd.DataFrame({'x':x, 'y':y, 'label':student_1_y_true})\n",
    "plt.scatter(df['x'], df['y'], c=df['label'].apply(lambda x: colors[x]))\n",
    "plt.show()\n"
   ]
  },
  {
   "cell_type": "code",
   "execution_count": 26,
   "metadata": {},
   "outputs": [
    {
     "data": {
      "text/html": [
       "<script>requirejs.config({paths: { 'plotly': ['https://cdn.plot.ly/plotly-latest.min']},});if(!window.Plotly) {{require(['plotly'],function(plotly) {window.Plotly=plotly;});}}</script>"
      ],
      "text/vnd.plotly.v1+html": [
       "<script>requirejs.config({paths: { 'plotly': ['https://cdn.plot.ly/plotly-latest.min']},});if(!window.Plotly) {{require(['plotly'],function(plotly) {window.Plotly=plotly;});}}</script>"
      ]
     },
     "metadata": {},
     "output_type": "display_data"
    },
    {
     "data": {
      "text/plain": [
       "'file://F:\\\\Projects\\\\StudentLife-ML-Analysis\\\\temp-plot.html'"
      ]
     },
     "execution_count": 26,
     "metadata": {},
     "output_type": "execute_result"
    },
    {
     "data": {
      "text/plain": [
       "<matplotlib.figure.Figure at 0x11d5f9ed748>"
      ]
     },
     "metadata": {},
     "output_type": "display_data"
    }
   ],
   "source": [
    "# 3D PCA on one Student.\n",
    "# 3d interactive plot using plotly\n",
    "\n",
    "%matplotlib inline\n",
    "from mpl_toolkits.mplot3d import Axes3D\n",
    "fig = plt.figure()\n",
    "scale_x = 2\n",
    "scale_y = 2\n",
    "scale_z = 2\n",
    "\n",
    "df = pd.DataFrame({'x':x, 'y':y, 'z':z,'label':student_1_y_true})\n",
    "\n",
    "import plotly.plotly as py\n",
    "import plotly.graph_objs as go\n",
    "from plotly.offline import download_plotlyjs, init_notebook_mode, plot, iplot\n",
    "import plotly.offline\n",
    "\n",
    "import numpy as np\n",
    "\n",
    "traces = []\n",
    "\n",
    "for label in df.label.unique():\n",
    "    sub_df = df[df.loc[:, 'label']==label]\n",
    "    trace = go.Scatter3d(\n",
    "    x= sub_df['x'],\n",
    "    y= sub_df['y'],\n",
    "    z= sub_df['z'],\n",
    "    text = sub_df['label'], \n",
    "    mode='markers',\n",
    "    name=\"Class \" + str(label),\n",
    "    marker=dict(\n",
    "        size=12,\n",
    "        color=colors[label],  # set color to an array/list of desired values\n",
    "        colorscale=None,   # choose a colorscale\n",
    "        opacity=0.8\n",
    "    ))\n",
    "    traces.append(trace)\n",
    "\n",
    "layout = go.Layout(\n",
    "    margin=dict(\n",
    "        l=0,\n",
    "        r=0,\n",
    "        b=0,\n",
    "        t=0\n",
    "    )\n",
    ")\n",
    "init_notebook_mode(connected=True)\n",
    "\n",
    "plotly.offline.plot({\n",
    "    \"data\": traces,\n",
    "    \"layout\": layout\n",
    "})"
   ]
  },
  {
   "cell_type": "code",
   "execution_count": 29,
   "metadata": {},
   "outputs": [
    {
     "data": {
      "text/html": [
       "\n",
       "        <iframe\n",
       "            width=\"900\"\n",
       "            height=\"500\"\n",
       "            src=\"pca_student_1.html\"\n",
       "            frameborder=\"0\"\n",
       "            allowfullscreen\n",
       "        ></iframe>\n",
       "        "
      ],
      "text/plain": [
       "<IPython.lib.display.IFrame at 0x11d5d910c18>"
      ]
     },
     "execution_count": 29,
     "metadata": {},
     "output_type": "execute_result"
    }
   ],
   "source": [
    "from IPython.display import IFrame\n",
    "IFrame('pca_student_1.html', width=900, height=500)"
   ]
  }
 ],
 "metadata": {
  "kernelspec": {
   "display_name": "Python 3",
   "language": "python",
   "name": "python3"
  },
  "language_info": {
   "codemirror_mode": {
    "name": "ipython",
    "version": 3
   },
   "file_extension": ".py",
   "mimetype": "text/x-python",
   "name": "python",
   "nbconvert_exporter": "python",
   "pygments_lexer": "ipython3",
   "version": "3.6.4"
  }
 },
 "nbformat": 4,
 "nbformat_minor": 2
}
